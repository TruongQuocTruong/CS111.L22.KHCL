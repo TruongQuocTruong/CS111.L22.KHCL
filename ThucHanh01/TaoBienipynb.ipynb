{
  "nbformat": 4,
  "nbformat_minor": 0,
  "metadata": {
    "colab": {
      "name": "TaoBienipynb",
      "provenance": [],
      "authorship_tag": "ABX9TyO/Mzfb+nHw8hs/EmmJ+aoA",
      "include_colab_link": true
    },
    "kernelspec": {
      "name": "python3",
      "display_name": "Python 3"
    },
    "language_info": {
      "name": "python"
    }
  },
  "cells": [
    {
      "cell_type": "markdown",
      "metadata": {
        "id": "view-in-github",
        "colab_type": "text"
      },
      "source": [
        "<a href=\"https://colab.research.google.com/github/TruongQuocTruong/CS111.L22.KHCL/blob/main/TaoBienipynb.ipynb\" target=\"_parent\"><img src=\"https://colab.research.google.com/assets/colab-badge.svg\" alt=\"Open In Colab\"/></a>"
      ]
    },
    {
      "cell_type": "code",
      "metadata": {
        "id": "5pwTgXSHDOMM"
      },
      "source": [
        "str = input().split()\n",
        "n = int(str[0])\n",
        "k = int(str[1])\n",
        "\n",
        "def Fibo(k):\n",
        "  x1 = 1\n",
        "  x2 = 1\n",
        "  i = 2\n",
        "  while i <= k:\n",
        "    Temp = x2\n",
        "    x2 = x1 + x2\n",
        "    x1 = Temp\n",
        "    i += 1\n",
        "  return x2\n",
        "print((n*Fibo(k*2))% (10**9 + 7))"
      ],
      "execution_count": null,
      "outputs": []
    },
    {
      "cell_type": "code",
      "metadata": {
        "id": "V4mUc491tVhn"
      },
      "source": [
        "str = input().split()\n",
        "n = int(str[0])\n",
        "k = int(str[1])\n",
        "\n",
        "def Fido(k):\n",
        "    dp = [0] * (n + 1)\n",
        "    dp[1] = 1\n",
        "    for i in range(2, n + 1):\n",
        "        dp[i] = dp[i - 1] + dp[i - 2]\n",
        "    return dp[n]\n",
        "print((n*Fibo(k*2))% (10**9 + 7))"
      ],
      "execution_count": null,
      "outputs": []
    }
  ]
}